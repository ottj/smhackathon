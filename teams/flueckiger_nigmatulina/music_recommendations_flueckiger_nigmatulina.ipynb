{
 "cells": [
  {
   "cell_type": "markdown",
   "metadata": {},
   "source": [
    "# Music Recommendation using Doc2Vec"
   ]
  },
  {
   "cell_type": "markdown",
   "metadata": {},
   "source": [
    "Based on music lyrics, you can get similar artist recommendations, find an alternative song with the same great lyrics you already like or just see how much the epochs of music history are related to each other.\n",
    "Moreover, you can also look into the most significant words of your favorite artist and find a song that suits your mood.\n",
    "\n",
    "For more appropriate results, a separate model should be trained for each language (dataset consists of lyrics in various languages).\n",
    "\n",
    "Hackathon at Starmind 29th of March 2018\n",
    "by Alex Flückiger,  Yulia Nigmatulina"
   ]
  },
  {
   "cell_type": "code",
   "execution_count": 1,
   "metadata": {},
   "outputs": [],
   "source": [
    "import pandas as pd\n",
    "import numpy as np\n",
    "from gensim.utils import tokenize\n",
    "from gensim.models.doc2vec import Doc2Vec, TaggedDocument\n",
    "from nltk.corpus import stopwords\n",
    "from gensim.test.test_doc2vec import ConcatenatedDoc2Vec"
   ]
  },
  {
   "cell_type": "code",
   "execution_count": 2,
   "metadata": {},
   "outputs": [],
   "source": [
    "class ArtistRecommendation():\n",
    "    def __init__(self, dataset):\n",
    "        self.df = self.read_dataset(dataset)\n",
    "        self.taggeddocs = None\n",
    "        self.model = None\n",
    "        self.stopwords = self._set_stopwords()\n",
    "        \n",
    "        \n",
    "    def read_dataset(self, dataset):\n",
    "        df = pd.read_csv(dataset)\n",
    "        df['year'] = df['year'].fillna(0.0).astype(int)\n",
    "        return df\n",
    "        \n",
    "    def _set_stopwords(self):\n",
    "            return set(stopwords.words('english'))\n",
    "\n",
    "    def tag_docs(self):\n",
    "        self.taggeddocs = list()\n",
    "        \n",
    "        for index, row in self.df.iterrows():\n",
    "            #print(row)\n",
    "            song = row['song'].lower() + '_song'\n",
    "            artist = row['artist'].lower() + '_artist'\n",
    "            tags = [artist, song]\n",
    "            \n",
    "            if type(row['year']) == int and row['year'] != 0:\n",
    "                year = str(row['year'])[:3] + '0_year'\n",
    "                tags.append(year)\n",
    "            \n",
    "            if type(row['genre']) == str:\n",
    "                genre = row['genre'].replace('_', '-').lower() + '_genre'\n",
    "                tags.append(genre)\n",
    "                \n",
    "            tokens = list(tokenize(row['text'], lowercase=True, deacc=False))\n",
    "            \n",
    "            self.taggeddocs.append(TaggedDocument(words=tokens, tags=tags))\n",
    "    \n",
    "    def train_model(self):\n",
    "        # For a better performance models PV-DBOW and PV-DM should be combined as proposed in the orginal paper by Mikolov\n",
    "        # PV-DBOW: random sampled words are predicted per tag\n",
    "        # PV-DM: tag can be considered as an additional word in the respective word window\n",
    "\n",
    "        dmm_model = Doc2Vec(self.taggeddocs, dm=1, dm_mean=1, vector_size=100, window=10, min_count=2, negative=5, hs=0, workers=4, epochs=20)\n",
    "        self.model = dmm_model\n",
    "        # dbow_model = Doc2Vec(self.taggeddocs, dm=0, vector_size=100, window=5, min_count=2, negative=5, workers=4, epochs=20)\n",
    "        # self.model = ConcatenatedDoc2Vec([dmm_model, dbow_model])\n",
    "        \n",
    "    def compute_embedding_per_artist(self):\n",
    "        for artist in set(df['artist']):\n",
    "            artist = artist.lower()\n",
    "            self.df[self.df['artist'] == artist]['artist_embedding'] = np.mean(\n",
    "                self.df[self.df['artist'] == artist]['doc_embedding'])\n",
    "\n",
    "    def get_artist_similarity(self, artist, genre=None, year=None):\n",
    "        artist = artist.lower() + '_artist'\n",
    "        return [(tag.split('_')[0], score) for tag, score in self._get_similarity_by_tag(artist) if '_artist' in tag]\n",
    "        \n",
    "    \n",
    "    def get_song_similarity(self, song, genre=None, year=None):\n",
    "        title = song\n",
    "        # include the artist information\n",
    "        #recommender.df[df['song'].str.match(title, case=False)]['artist'].to_string(),\n",
    "        song = song.lower() + '_song'\n",
    "        return [(tag.split('_')[0], score) for tag, score in self._get_similarity_by_tag(song) if '_song' in tag]\n",
    "    \n",
    "    def get_year_similarity(self, year):\n",
    "        year = str(year) + '_year'\n",
    "        return [(tag.split('_')[0], score) for tag, score in self._get_similarity_by_tag(year) if '_year' in tag]\n",
    "    \n",
    "    def get_genre_similarity(self, genre):\n",
    "        genre = str(genre) + '_genre'\n",
    "        return [(tag.split('_')[0], score) for tag, score in self._get_similarity_by_tag(genre) if '_genre' in tag]\n",
    "\n",
    "    def get_word_similarity(self, word):\n",
    "        return self.model.wv.most_similar(word)\n",
    "    \n",
    "    def _get_similarity_by_tag(self, tag):\n",
    "        vect = self.model.docvecs[tag]\n",
    "        return self.model.docvecs.most_similar([vect], topn=30)\n",
    "    \n",
    "    def get_protoypical_words_per_artist(self, artist):\n",
    "        artist = artist.lower() + '_artist'\n",
    "        vect = self.model.docvecs[artist]\n",
    "        words = recommender.model.wv.similar_by_vector(vect, topn=20)\n",
    "        return [w for w in words if w[0] not in self.stopwords]\n",
    "\n",
    "    def find_song_by_word(self, word):\n",
    "        word_distribution = {}\n",
    "        word_cloud = self.get_word_similarity(word)\n",
    "        for song in self.taggeddocs:\n",
    "            word_prob = self.word_prob(word, song[0])\n",
    "            if song[1][1] not in word_distribution:\n",
    "                word_distribution[\"{} - {}\".format(song[1][0], song[1][1])] = word_prob\n",
    "            else:\n",
    "                word_distribution[song[1][1]] = word_distribution[\"{} - {}\".format(song[1][0], song[1][1])] + word_prob\n",
    "                \n",
    "        for song, prob in word_distribution.items():\n",
    "            word_distribution[song] = prob/len(word_cloud)\n",
    "\n",
    "        return sorted(word_distribution.items(), key=lambda x:x[1], reverse=True)[:5]\n",
    "        \n",
    "    def word_prob(self, word, song):\n",
    "        word_n = 0\n",
    "        for w in song:\n",
    "            if w == word:\n",
    "                word_n += 1\n",
    "        return word_n/len(self.taggeddocs)"
   ]
  },
  {
   "cell_type": "code",
   "execution_count": 3,
   "metadata": {},
   "outputs": [],
   "source": [
    "recommender = ArtistRecommendation('dataset.csv')\n",
    "recommender.tag_docs()\n",
    "recommender.train_model()"
   ]
  },
  {
   "cell_type": "code",
   "execution_count": 4,
   "metadata": {
    "scrolled": true
   },
   "outputs": [
    {
     "data": {
      "text/html": [
       "<div>\n",
       "<style scoped>\n",
       "    .dataframe tbody tr th:only-of-type {\n",
       "        vertical-align: middle;\n",
       "    }\n",
       "\n",
       "    .dataframe tbody tr th {\n",
       "        vertical-align: top;\n",
       "    }\n",
       "\n",
       "    .dataframe thead th {\n",
       "        text-align: right;\n",
       "    }\n",
       "</style>\n",
       "<table border=\"1\" class=\"dataframe\">\n",
       "  <thead>\n",
       "    <tr style=\"text-align: right;\">\n",
       "      <th></th>\n",
       "      <th>artist</th>\n",
       "      <th>song</th>\n",
       "      <th>text</th>\n",
       "      <th>genre</th>\n",
       "      <th>year</th>\n",
       "    </tr>\n",
       "  </thead>\n",
       "  <tbody>\n",
       "    <tr>\n",
       "      <th>0</th>\n",
       "      <td>ABBA</td>\n",
       "      <td>Ahe's My Kind Of Girl</td>\n",
       "      <td>Look at her face, it's a wonderful face  \\nAnd...</td>\n",
       "      <td>NaN</td>\n",
       "      <td>0</td>\n",
       "    </tr>\n",
       "    <tr>\n",
       "      <th>1</th>\n",
       "      <td>ABBA</td>\n",
       "      <td>Andante, Andante</td>\n",
       "      <td>Take it easy with me, please  \\nTouch me gentl...</td>\n",
       "      <td>NaN</td>\n",
       "      <td>0</td>\n",
       "    </tr>\n",
       "    <tr>\n",
       "      <th>2</th>\n",
       "      <td>ABBA</td>\n",
       "      <td>As Good As New</td>\n",
       "      <td>I'll never know why I had to go  \\nWhy I had t...</td>\n",
       "      <td>NaN</td>\n",
       "      <td>0</td>\n",
       "    </tr>\n",
       "    <tr>\n",
       "      <th>3</th>\n",
       "      <td>ABBA</td>\n",
       "      <td>Bang</td>\n",
       "      <td>Making somebody happy is a question of give an...</td>\n",
       "      <td>NaN</td>\n",
       "      <td>0</td>\n",
       "    </tr>\n",
       "    <tr>\n",
       "      <th>4</th>\n",
       "      <td>ABBA</td>\n",
       "      <td>Bang-A-Boomerang</td>\n",
       "      <td>Making somebody happy is a question of give an...</td>\n",
       "      <td>Pop_Rock</td>\n",
       "      <td>1975</td>\n",
       "    </tr>\n",
       "  </tbody>\n",
       "</table>\n",
       "</div>"
      ],
      "text/plain": [
       "  artist                   song  \\\n",
       "0   ABBA  Ahe's My Kind Of Girl   \n",
       "1   ABBA       Andante, Andante   \n",
       "2   ABBA         As Good As New   \n",
       "3   ABBA                   Bang   \n",
       "4   ABBA       Bang-A-Boomerang   \n",
       "\n",
       "                                                text     genre  year  \n",
       "0  Look at her face, it's a wonderful face  \\nAnd...       NaN     0  \n",
       "1  Take it easy with me, please  \\nTouch me gentl...       NaN     0  \n",
       "2  I'll never know why I had to go  \\nWhy I had t...       NaN     0  \n",
       "3  Making somebody happy is a question of give an...       NaN     0  \n",
       "4  Making somebody happy is a question of give an...  Pop_Rock  1975  "
      ]
     },
     "execution_count": 4,
     "metadata": {},
     "output_type": "execute_result"
    }
   ],
   "source": [
    "recommender.df.head()"
   ]
  },
  {
   "cell_type": "code",
   "execution_count": 5,
   "metadata": {
    "scrolled": true
   },
   "outputs": [
    {
     "data": {
      "text/plain": [
       "[('eminem', 1.000000238418579),\n",
       " ('insane clown posse', 0.7843844294548035),\n",
       " ('outkast', 0.7550121545791626),\n",
       " ('wu-tang clan', 0.7418571710586548),\n",
       " ('yelawolf', 0.7282025814056396),\n",
       " ('ice cube', 0.727891743183136),\n",
       " ('fabolous', 0.7164888381958008),\n",
       " ('xzibit', 0.7152565121650696),\n",
       " ('notorious b.i.g.', 0.7092170119285583),\n",
       " ('nicki minaj', 0.6994189620018005),\n",
       " ('x-raided', 0.6969919204711914),\n",
       " ('quarashi', 0.6964083909988403),\n",
       " ('yg', 0.6911574602127075),\n",
       " ('vanilla ice', 0.6703895926475525),\n",
       " ('lil wayne', 0.667458176612854),\n",
       " (\"ultramagnetic mc's\", 0.6670665144920349),\n",
       " ('puff daddy', 0.6633135676383972),\n",
       " ('ying yang twins', 0.6614609360694885),\n",
       " ('kanye west', 0.6522127985954285),\n",
       " ('snoop dogg', 0.6510710716247559),\n",
       " ('drake', 0.6462624669075012),\n",
       " ('ll cool j', 0.6428661346435547),\n",
       " ('everlast', 0.6346815824508667),\n",
       " ('yukmouth', 0.6344373226165771),\n",
       " ('wiz khalifa', 0.630338191986084),\n",
       " ('kid rock', 0.6290221214294434),\n",
       " ('sublime', 0.6253687739372253),\n",
       " ('will smith', 0.6250461339950562),\n",
       " ('p!nk', 0.6212407350540161),\n",
       " ('q-tip', 0.6165290474891663)]"
      ]
     },
     "execution_count": 5,
     "metadata": {},
     "output_type": "execute_result"
    }
   ],
   "source": [
    " recommender.get_artist_similarity('eminem')"
   ]
  },
  {
   "cell_type": "code",
   "execution_count": 6,
   "metadata": {},
   "outputs": [
    {
     "data": {
      "text/plain": [
       "[('bang', 1.0000001192092896),\n",
       " ('bang-a-boomerang', 0.484915554523468),\n",
       " ('ice ice baby', 0.4771422743797302),\n",
       " ('wig master', 0.4459804594516754),\n",
       " ('too cold', 0.431679368019104),\n",
       " (\"we don't care bout ya\", 0.3665222227573395),\n",
       " ('hippie dream', 0.35457414388656616),\n",
       " ('the greatest rapper', 0.3516010642051697),\n",
       " ('go no more a-roving', 0.3407108187675476),\n",
       " ('delivering the goods', 0.3395070433616638),\n",
       " ('the huckle-buck', 0.33772966265678406),\n",
       " ('all i have to offer you is love', 0.33746570348739624),\n",
       " ('legendary lovers', 0.3335992097854614),\n",
       " (\"that's when i'll give up\", 0.33348798751831055),\n",
       " ('give up the funk', 0.3319513499736786),\n",
       " ('fist city', 0.33010223507881165),\n",
       " (\"i'll try something new\", 0.32870179414749146),\n",
       " ('i should have known better', 0.3265601694583893),\n",
       " ('cold war', 0.32617875933647156),\n",
       " (\"rollin' wit the lench mob\", 0.32520508766174316),\n",
       " ('love revival', 0.32300570607185364),\n",
       " ('blood red skies', 0.32124173641204834),\n",
       " ('never', 0.3212059736251831),\n",
       " (\"crush 'em\", 0.3177952766418457),\n",
       " ('hatred', 0.31502607464790344),\n",
       " ('hammer and a nail', 0.31446653604507446),\n",
       " ('rip', 0.31352680921554565),\n",
       " ('lost in a lonely world', 0.312519371509552),\n",
       " ('summer in the city', 0.31135907769203186),\n",
       " ('jimi thing', 0.31116706132888794)]"
      ]
     },
     "execution_count": 6,
     "metadata": {},
     "output_type": "execute_result"
    }
   ],
   "source": [
    "recommender.get_song_similarity('bang')"
   ]
  },
  {
   "cell_type": "code",
   "execution_count": 7,
   "metadata": {},
   "outputs": [
    {
     "data": {
      "text/plain": [
       "[(\"madonna_artist - it's so cool_song\", 0.00021335646140503033),\n",
       " (\"gucci mane_artist - i think i'm in love_song\", 0.00014570685169124024),\n",
       " ('stevie wonder_artist - all day sucker_song', 0.00011795316565481353),\n",
       " ('alabama_artist - love remains_song', 0.00011621856027753685),\n",
       " ('kiss_artist - do you love me_song', 0.00011621856027753685)]"
      ]
     },
     "execution_count": 7,
     "metadata": {},
     "output_type": "execute_result"
    }
   ],
   "source": [
    "recommender.find_song_by_word('love')"
   ]
  },
  {
   "cell_type": "code",
   "execution_count": 8,
   "metadata": {},
   "outputs": [
    {
     "data": {
      "text/plain": [
       "[('fatboy slim_artist - drop the hate_song', 8.499566348655681e-05),\n",
       " ('offspring_artist - cool to hate_song', 4.336513443191674e-05),\n",
       " ('misfits_artist - hate breeders_song', 3.816131830008673e-05),\n",
       " ('glee_artist - hate on me_song', 3.642671292281006e-05),\n",
       " ('kinks_artist - hatred_song', 3.642671292281006e-05)]"
      ]
     },
     "execution_count": 8,
     "metadata": {},
     "output_type": "execute_result"
    }
   ],
   "source": [
    "recommender.find_song_by_word('hate')"
   ]
  },
  {
   "cell_type": "code",
   "execution_count": 18,
   "metadata": {},
   "outputs": [
    {
     "data": {
      "text/plain": [
       "[('gladness', 0.5859478116035461),\n",
       " ('sorrow', 0.5761454701423645),\n",
       " ('joys', 0.5740044116973877),\n",
       " ('sadness', 0.5706560611724854),\n",
       " ('happiness', 0.56773841381073),\n",
       " ('latigo', 0.49610090255737305),\n",
       " ('laughter', 0.48559334874153137),\n",
       " ('wedlock', 0.4499773681163788),\n",
       " ('cheer', 0.44746074080467224),\n",
       " ('springtime', 0.44741344451904297)]"
      ]
     },
     "execution_count": 18,
     "metadata": {},
     "output_type": "execute_result"
    }
   ],
   "source": [
    "recommender.get_word_similarity('joy')"
   ]
  },
  {
   "cell_type": "code",
   "execution_count": 10,
   "metadata": {
    "scrolled": true
   },
   "outputs": [
    {
     "data": {
      "text/plain": [
       "[('mutilation', 0.6141511797904968),\n",
       " ('geddon', 0.6138846278190613),\n",
       " ('inquisitions', 0.6079074144363403),\n",
       " ('satanas', 0.5923866629600525),\n",
       " ('impian', 0.5912560224533081),\n",
       " ('sterne', 0.5862410068511963),\n",
       " ('mawarku', 0.5804999470710754),\n",
       " ('memahami', 0.5771117210388184),\n",
       " ('rage', 0.5733351111412048),\n",
       " ('canzone', 0.5730963349342346),\n",
       " ('genocide', 0.5720162987709045),\n",
       " ('denwa', 0.5709301829338074),\n",
       " ('blut', 0.5627501606941223),\n",
       " ('maafkan', 0.5607697367668152),\n",
       " ('kesem', 0.5593931078910828),\n",
       " ('nanti', 0.5567923188209534),\n",
       " ('kasteel', 0.5553518533706665),\n",
       " ('goshi', 0.5549077987670898),\n",
       " ('injector', 0.5546765923500061),\n",
       " ('nayyan', 0.5546014904975891)]"
      ]
     },
     "execution_count": 10,
     "metadata": {},
     "output_type": "execute_result"
    }
   ],
   "source": [
    "recommender.get_protoypical_words_per_artist('metallica')"
   ]
  },
  {
   "cell_type": "code",
   "execution_count": 11,
   "metadata": {},
   "outputs": [
    {
     "data": {
      "text/plain": [
       "[('1990', 1.0),\n",
       " ('1960', 0.5753753781318665),\n",
       " ('1970', 0.539879322052002),\n",
       " ('1980', 0.48252999782562256)]"
      ]
     },
     "execution_count": 11,
     "metadata": {},
     "output_type": "execute_result"
    }
   ],
   "source": [
    "recommender.get_year_similarity(1990)"
   ]
  },
  {
   "cell_type": "code",
   "execution_count": 12,
   "metadata": {},
   "outputs": [
    {
     "data": {
      "text/plain": [
       "[('pop-rock', 0.9999997019767761), ('folk', 0.5284911394119263)]"
      ]
     },
     "execution_count": 12,
     "metadata": {},
     "output_type": "execute_result"
    }
   ],
   "source": [
    "recommender.get_genre_similarity('pop-rock')"
   ]
  },
  {
   "cell_type": "code",
   "execution_count": 13,
   "metadata": {
    "scrolled": true
   },
   "outputs": [
    {
     "data": {
      "text/plain": [
       "[('country_genre', 1.0000001192092896),\n",
       " ('tim mcgraw_artist', 0.6915132999420166),\n",
       " ('alabama_artist', 0.6814668774604797),\n",
       " ('george strait_artist', 0.676322877407074),\n",
       " ('randy travis_artist', 0.669689953327179),\n",
       " ('garth brooks_artist', 0.6577267050743103),\n",
       " ('kenny chesney_artist', 0.6451531648635864),\n",
       " ('george jones_artist', 0.6439744830131531),\n",
       " ('vince gill_artist', 0.6417198777198792),\n",
       " ('hank williams jr._artist', 0.6349629759788513)]"
      ]
     },
     "execution_count": 13,
     "metadata": {},
     "output_type": "execute_result"
    }
   ],
   "source": [
    "# show prototypical artists of an genre\n",
    "vect = recommender.model.docvecs['country_genre']\n",
    "recommender.model.docvecs.most_similar([vect], topn=10)"
   ]
  },
  {
   "cell_type": "code",
   "execution_count": 14,
   "metadata": {},
   "outputs": [
    {
     "data": {
      "text/plain": [
       "[('1990_year', 1.0),\n",
       " ('pop-rock_genre', 0.6357326507568359),\n",
       " ('black sabbath_artist', 0.6074845790863037),\n",
       " ('overkill_artist', 0.5767002105712891),\n",
       " ('1960_year', 0.5753753781318665),\n",
       " ('1970_year', 0.539879322052002),\n",
       " ('iron maiden_artist', 0.5263309478759766),\n",
       " ('deep purple_artist', 0.517450749874115),\n",
       " ('ozzy osbourne_artist', 0.512157678604126),\n",
       " ('oasis_artist', 0.5055568814277649)]"
      ]
     },
     "execution_count": 14,
     "metadata": {},
     "output_type": "execute_result"
    }
   ],
   "source": [
    "# show prototypical artists of an epoch in music history\n",
    "vect = recommender.model.docvecs['1990_year']\n",
    "recommender.model.docvecs.most_similar([vect], topn=10)"
   ]
  }
 ],
 "metadata": {
  "kernelspec": {
   "display_name": "Python 3",
   "language": "python",
   "name": "python3"
  },
  "language_info": {
   "codemirror_mode": {
    "name": "ipython",
    "version": 3
   },
   "file_extension": ".py",
   "mimetype": "text/x-python",
   "name": "python",
   "nbconvert_exporter": "python",
   "pygments_lexer": "ipython3",
   "version": "3.6.4"
  }
 },
 "nbformat": 4,
 "nbformat_minor": 2
}
