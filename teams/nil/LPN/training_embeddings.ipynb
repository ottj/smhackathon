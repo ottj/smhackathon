{
 "cells": [
  {
   "cell_type": "code",
   "execution_count": null,
   "metadata": {},
   "outputs": [],
   "source": [
    "import pandas as pd\n",
    "import fastText\n",
    "#help(fastText.FastText)\n",
    "\n",
    "#data =open('../dataset/dataset.csv','r')\n",
    "#data_read=data.read()\n",
    "#print(data_read)\n",
    "\n",
    "with open('../dataset/dataset.csv', 'r') as f:\n",
    "    read_data = f.read()\n",
    "f.closed\n",
    "\n",
    "print(read_data)\n",
    "\n",
    "#model = fastText.FastText.train_unsupervised('../dataset/dataset.csv', dim=300)\n",
    "#model.save_model(\"embeddings_lyrics.bin\")"
   ]
  },
  {
   "cell_type": "code",
   "execution_count": null,
   "metadata": {},
   "outputs": [],
   "source": [
    "read_data"
   ]
  },
  {
   "cell_type": "code",
   "execution_count": null,
   "metadata": {},
   "outputs": [],
   "source": []
  }
 ],
 "metadata": {
  "kernelspec": {
   "display_name": "Environment (conda_tensorflow_p36)",
   "language": "python",
   "name": "conda_tensorflow_p36"
  },
  "language_info": {
   "codemirror_mode": {
    "name": "ipython",
    "version": 3
   },
   "file_extension": ".py",
   "mimetype": "text/x-python",
   "name": "python",
   "nbconvert_exporter": "python",
   "pygments_lexer": "ipython3",
   "version": "3.6.4"
  }
 },
 "nbformat": 4,
 "nbformat_minor": 2
}
