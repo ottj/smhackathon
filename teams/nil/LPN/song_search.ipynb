{
 "cells": [
  {
   "cell_type": "code",
   "execution_count": null,
   "metadata": {},
   "outputs": [],
   "source": [
    "import fastText as ft\n",
    "import numpy as np\n",
    "import pandas as pd\n",
    "from sklearn.neighbors import KDTree\n",
    "from sklearn.preprocessing import normalize\n",
    "\n",
    "num_search_results = 3\n",
    "\n",
    "# # load the corresponding song and print it.\n",
    "print(\"Loading the dataset...\")\n",
    "songs = pd.read_csv('../dataset/dataset.csv')\n",
    "\n",
    "print(\"Loading the embedding model for querying...\")\n",
    "model = ft.load_model(\"../../embeddings/fasttext/wiki.en.bin\")\n"
   ]
  },
  {
   "cell_type": "code",
   "execution_count": null,
   "metadata": {},
   "outputs": [],
   "source": [
    "print(\"Loading the embeddings for songs to compare...\")\n",
    "embedding_of_lyrics_unnormalized = pd.read_csv('../database/song_embedings.csv').values[1:, 1:]\n",
    "\n",
    "row_sums = embedding_of_lyrics_unnormalized.sum(axis=1)\n",
    "embedding_of_lyrics = embedding_of_lyrics_unnormalized / row_sums[:, np.newaxis]\n",
    "\n",
    "print(\"Making the KDTree tree...\")\n",
    "tree = KDTree(embedding_of_lyrics)"
   ]
  },
  {
   "cell_type": "code",
   "execution_count": null,
   "metadata": {},
   "outputs": [],
   "source": [
    "while(True):\n",
    "    query = input(\"Enter your query : \")\n",
    "    tokens = ft.tokenize(query)\n",
    "    #print(tokens)\n",
    "\n",
    "    # embedding matrix for the query\n",
    "    query_embedding_matrix = []\n",
    "    for x in tokens:\n",
    "        query_embedding_matrix.append(model.get_word_vector(x))\n",
    "\n",
    "\n",
    "    # embedding of the query - using avg method with fastText\n",
    "    embedding_of_query_unnormalized = model.get_word_vector(query)\n",
    "\n",
    "    embedding_of_query = embedding_of_query_unnormalized/sum(embedding_of_query_unnormalized)\n",
    "    #print(sum(embedding_of_query))\n",
    "\n",
    "    # finding the num_search_results closest songs\n",
    "    # # finding the index\n",
    "    dist, ind = tree.query([embedding_of_query], k=num_search_results)\n",
    "    #sprint(ind)\n",
    "\n",
    "    # printing the songs\n",
    "    print(\"The related songs are...\")\n",
    "    for i in ind[0]:\n",
    "        artist = songs['artist'][i]\n",
    "        song = songs['song'][i]\n",
    "        text = songs['text'][i]\n",
    "        genre = songs['genre'][i]\n",
    "        year = songs['year'][i]\n",
    "        print(\"The song \"+song+\" sung by \"+artist + \"\\n\" + text)\n",
    "        print(\"-----------------------------------\")"
   ]
  },
  {
   "cell_type": "code",
   "execution_count": null,
   "metadata": {},
   "outputs": [],
   "source": []
  }
 ],
 "metadata": {
  "kernelspec": {
   "display_name": "Environment (conda_tensorflow_p36)",
   "language": "python",
   "name": "conda_tensorflow_p36"
  },
  "language_info": {
   "codemirror_mode": {
    "name": "ipython",
    "version": 3
   },
   "file_extension": ".py",
   "mimetype": "text/x-python",
   "name": "python",
   "nbconvert_exporter": "python",
   "pygments_lexer": "ipython3",
   "version": "3.6.4"
  }
 },
 "nbformat": 4,
 "nbformat_minor": 2
}
